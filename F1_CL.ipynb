{
  "nbformat": 4,
  "nbformat_minor": 0,
  "metadata": {
    "colab": {
      "provenance": [],
      "authorship_tag": "ABX9TyNpzOGVnIjYpRv1wc3Tiv3C",
      "include_colab_link": true
    },
    "kernelspec": {
      "name": "python3",
      "display_name": "Python 3"
    },
    "language_info": {
      "name": "python"
    }
  },
  "cells": [
    {
      "cell_type": "markdown",
      "metadata": {
        "id": "view-in-github",
        "colab_type": "text"
      },
      "source": [
        "<a href=\"https://colab.research.google.com/github/lstene/charlesLecrerc-performance/blob/main/F1_CL.ipynb\" target=\"_parent\"><img src=\"https://colab.research.google.com/assets/colab-badge.svg\" alt=\"Open In Colab\"/></a>"
      ]
    },
    {
      "cell_type": "markdown",
      "source": [
        "## Charles Lecrec Performance analysis 2018-2023"
      ],
      "metadata": {
        "id": "ykBNgTP0Uwua"
      }
    },
    {
      "cell_type": "code",
      "execution_count": null,
      "metadata": {
        "colab": {
          "base_uri": "https://localhost:8080/"
        },
        "id": "gFegj4t7Uv8z",
        "outputId": "6746ec59-1e90-43e9-f5c2-de8d99fd6c47"
      },
      "outputs": [
        {
          "output_type": "stream",
          "name": "stdout",
          "text": [
            "Collecting pyspark\n",
            "  Downloading pyspark-3.5.2.tar.gz (317.3 MB)\n",
            "\u001b[2K     \u001b[90m━━━━━━━━━━━━━━━━━━━━━━━━━━━━━━━━━━━━━━━━\u001b[0m \u001b[32m317.3/317.3 MB\u001b[0m \u001b[31m4.0 MB/s\u001b[0m eta \u001b[36m0:00:00\u001b[0m\n",
            "\u001b[?25h  Preparing metadata (setup.py) ... \u001b[?25l\u001b[?25hdone\n",
            "Requirement already satisfied: py4j==0.10.9.7 in /usr/local/lib/python3.10/dist-packages (from pyspark) (0.10.9.7)\n",
            "Building wheels for collected packages: pyspark\n",
            "  Building wheel for pyspark (setup.py) ... \u001b[?25l\u001b[?25hdone\n",
            "  Created wheel for pyspark: filename=pyspark-3.5.2-py2.py3-none-any.whl size=317812365 sha256=9db354a400ebe12114d34562bb8093480112dc938b8e9311b62a34620ed2e922\n",
            "  Stored in directory: /root/.cache/pip/wheels/34/34/bd/03944534c44b677cd5859f248090daa9fb27b3c8f8e5f49574\n",
            "Successfully built pyspark\n",
            "Installing collected packages: pyspark\n",
            "Successfully installed pyspark-3.5.2\n",
            "Collecting findspark\n",
            "  Downloading findspark-2.0.1-py2.py3-none-any.whl.metadata (352 bytes)\n",
            "Downloading findspark-2.0.1-py2.py3-none-any.whl (4.4 kB)\n",
            "Installing collected packages: findspark\n",
            "Successfully installed findspark-2.0.1\n"
          ]
        }
      ],
      "source": [
        "! pip install pyspark\n",
        "! pip install findspark\n",
        "\n",
        "from pyspark import SparkContext, SparkConf\n",
        "from pyspark.sql import SparkSession\n",
        "\n",
        "import findspark\n",
        "findspark.init()\n",
        "\n",
        "sc = SparkContext()\n",
        "# Creating a spark session\n",
        "spark = SparkSession \\\n",
        "  .builder \\\n",
        "  .appName( \"Charles Lecrec Performance analysis 2018-2023\") \\\n",
        "  .config(\"spark.some.config.option\", \" some-value\") \\\n",
        "  .getOrCreate()"
      ]
    },
    {
      "cell_type": "code",
      "source": [
        "from functools import reduce\n",
        "import pandas as pd\n",
        "from pyspark.sql.functions import col, sum, to_date, when, udf, mean, round, year\n",
        "from pyspark.sql.types import StringType\n",
        "from datetime import datetime\n",
        "from pyspark.sql import functions as F"
      ],
      "metadata": {
        "id": "hHGRgG0HcRzX"
      },
      "execution_count": null,
      "outputs": []
    },
    {
      "cell_type": "markdown",
      "source": [
        "First we upload the data from the season 2018 to 2023 in order to analyze how Charles Lecrerc performs during the seasons and unify it into a single pyspark DataFrame"
      ],
      "metadata": {
        "id": "XelDTl5yVzMw"
      }
    },
    {
      "cell_type": "code",
      "source": [
        "df_2018=spark.read.csv(\"season_2018.csv\", header=True, inferSchema=True)\n",
        "df_2019=spark.read.csv(\"season_2019.csv\", header=True, inferSchema=True)\n",
        "df_2020=spark.read.csv(\"season_2020.csv\", header=True, inferSchema=True)\n",
        "df_2021=spark.read.csv(\"season_2021.csv\", header=True, inferSchema=True)\n",
        "df_2022=spark.read.csv(\"season_2022.csv\", header=True, inferSchema=True)\n",
        "df_2023=spark.read.csv(\"seasons_2023.csv\", header=True, inferSchema=True)"
      ],
      "metadata": {
        "id": "6RELFZMvVLYO"
      },
      "execution_count": null,
      "outputs": []
    },
    {
      "cell_type": "markdown",
      "source": [
        "Before merging the dataframes we need to verify they have the same number of columns"
      ],
      "metadata": {
        "id": "FMcKMPzJdMb-"
      }
    },
    {
      "cell_type": "code",
      "source": [
        "print(len(df_2018.columns))\n",
        "print(len(df_2019.columns))\n",
        "print(len(df_2020.columns))\n",
        "print(len(df_2021.columns))\n",
        "print(len(df_2022.columns))\n",
        "print(len(df_2023.columns))"
      ],
      "metadata": {
        "colab": {
          "base_uri": "https://localhost:8080/"
        },
        "id": "HLeYEAXzcotj",
        "outputId": "4b103e12-4f05-49b1-cfd9-228ba81b0027"
      },
      "execution_count": null,
      "outputs": [
        {
          "output_type": "stream",
          "name": "stdout",
          "text": [
            "27\n",
            "27\n",
            "27\n",
            "27\n",
            "27\n",
            "27\n"
          ]
        }
      ]
    },
    {
      "cell_type": "code",
      "source": [
        "df_cl = [df_2018, df_2019, df_2020, df_2021, df_2022, df_2023]\n",
        "df_cl = reduce(lambda df1, df2: df1.union(df2), df_cl)\n",
        "\n",
        "df_cl.show(5)\n",
        "print(\"Number of rows: \",df_cl.count())"
      ],
      "metadata": {
        "colab": {
          "base_uri": "https://localhost:8080/"
        },
        "id": "qLC2we8ddW2N",
        "outputId": "57d9acd5-26fc-40c4-bcbd-43675d3dc137"
      },
      "execution_count": null,
      "outputs": [
        {
          "output_type": "stream",
          "name": "stdout",
          "text": [
            "+------------+-------------+------------+--------+--------+---------+------+---------+--------+---------------+-----------+-----------+--------+------------------+------------+----+----+----+--------------------+--------+------+-----------+--------------------+---------+-----------+--------------------+----------+\n",
            "|DriverNumber|BroadcastName|Abbreviation|DriverId|TeamName|TeamColor|TeamId|FirstName|LastName|       FullName|HeadshotUrl|CountryCode|Position|ClassifiedPosition|GridPosition|  Q1|  Q2|  Q3|                Time|  Status|Points|RoundNumber|            RaceName|EventDate|NumPitStops|        TireStrategy|FastestLap|\n",
            "+------------+-------------+------------+--------+--------+---------+------+---------+--------+---------------+-----------+-----------+--------+------------------+------------+----+----+----+--------------------+--------+------+-----------+--------------------+---------+-----------+--------------------+----------+\n",
            "|          16|    C LECLERC|         LEC| leclerc|  Sauber|   9B0000|sauber|  Charles| Leclerc|Charles Leclerc|       NULL|       NULL|    13.0|                13|        18.0|NULL|NULL|NULL|0 days 00:01:15.7...|Finished|   0.0|          1|Australian Grand ...|3/25/2018|          2|SUPERSOFT > SOFT ...|     false|\n",
            "|          16|    C LECLERC|         LEC| leclerc|  Sauber|   9B0000|sauber|  Charles| Leclerc|Charles Leclerc|       NULL|       NULL|    12.0|                12|        19.0|NULL|NULL|NULL|                NULL|  +1 Lap|   0.0|          2|  Bahrain Grand Prix| 4/8/2018|          2|SOFT > MEDIUM > S...|     false|\n",
            "|          16|    C LECLERC|         LEC| leclerc|  Sauber|   9B0000|sauber|  Charles| Leclerc|Charles Leclerc|       NULL|       NULL|    19.0|                19|        19.0|NULL|NULL|NULL|0 days 00:01:22.5...|Finished|   0.0|          3|  Chinese Grand Prix|4/15/2018|          1|       SOFT > MEDIUM|     false|\n",
            "|          16|    C LECLERC|         LEC| leclerc|  Sauber|   9B0000|sauber|  Charles| Leclerc|Charles Leclerc|       NULL|       NULL|     6.0|                 6|        13.0|NULL|NULL|NULL|0 days 00:00:09.1...|Finished|   8.0|          4|Azerbaijan Grand ...|4/29/2018|          2|SUPERSOFT > SOFT ...|     false|\n",
            "|          16|    C LECLERC|         LEC| leclerc|  Sauber|   9B0000|sauber|  Charles| Leclerc|Charles Leclerc|       NULL|       NULL|    10.0|                10|        14.0|NULL|NULL|NULL|                NULL| +2 Laps|   1.0|          5|  Spanish Grand Prix|5/13/2018|          1|       SOFT > MEDIUM|     false|\n",
            "+------------+-------------+------------+--------+--------+---------+------+---------+--------+---------------+-----------+-----------+--------+------------------+------------+----+----+----+--------------------+--------+------+-----------+--------------------+---------+-----------+--------------------+----------+\n",
            "only showing top 5 rows\n",
            "\n",
            "Number of rows:  124\n"
          ]
        }
      ]
    },
    {
      "cell_type": "markdown",
      "source": [
        "## Data exploration"
      ],
      "metadata": {
        "id": "CwSR4DAOaGXO"
      }
    },
    {
      "cell_type": "code",
      "source": [
        "print(df_cl.printSchema())"
      ],
      "metadata": {
        "colab": {
          "base_uri": "https://localhost:8080/"
        },
        "id": "cDHOxY_UVvXY",
        "outputId": "b77a7848-5abd-4289-9094-26562fb5318b"
      },
      "execution_count": null,
      "outputs": [
        {
          "output_type": "stream",
          "name": "stdout",
          "text": [
            "root\n",
            " |-- DriverNumber: integer (nullable = true)\n",
            " |-- BroadcastName: string (nullable = true)\n",
            " |-- Abbreviation: string (nullable = true)\n",
            " |-- DriverId: string (nullable = true)\n",
            " |-- TeamName: string (nullable = true)\n",
            " |-- TeamColor: string (nullable = true)\n",
            " |-- TeamId: string (nullable = true)\n",
            " |-- FirstName: string (nullable = true)\n",
            " |-- LastName: string (nullable = true)\n",
            " |-- FullName: string (nullable = true)\n",
            " |-- HeadshotUrl: string (nullable = true)\n",
            " |-- CountryCode: string (nullable = true)\n",
            " |-- Position: double (nullable = true)\n",
            " |-- ClassifiedPosition: string (nullable = true)\n",
            " |-- GridPosition: double (nullable = true)\n",
            " |-- Q1: string (nullable = true)\n",
            " |-- Q2: string (nullable = true)\n",
            " |-- Q3: string (nullable = true)\n",
            " |-- Time: string (nullable = true)\n",
            " |-- Status: string (nullable = true)\n",
            " |-- Points: double (nullable = true)\n",
            " |-- RoundNumber: integer (nullable = true)\n",
            " |-- RaceName: string (nullable = true)\n",
            " |-- EventDate: string (nullable = true)\n",
            " |-- NumPitStops: integer (nullable = true)\n",
            " |-- TireStrategy: string (nullable = true)\n",
            " |-- FastestLap: boolean (nullable = true)\n",
            "\n",
            "None\n"
          ]
        }
      ]
    },
    {
      "cell_type": "code",
      "source": [
        "null_values = df_cl.select(*(sum(col(c).isNull().cast(\"int\")).alias(c) for c in df_cl.columns)).show()"
      ],
      "metadata": {
        "colab": {
          "base_uri": "https://localhost:8080/"
        },
        "id": "O2ONPWxueWHm",
        "outputId": "08d4b9e7-74b4-4a34-d52a-37cd26df7533"
      },
      "execution_count": null,
      "outputs": [
        {
          "output_type": "stream",
          "name": "stdout",
          "text": [
            "+------------+-------------+------------+--------+--------+---------+------+---------+--------+--------+-----------+-----------+--------+------------------+------------+---+---+---+----+------+------+-----------+--------+---------+-----------+------------+----------+\n",
            "|DriverNumber|BroadcastName|Abbreviation|DriverId|TeamName|TeamColor|TeamId|FirstName|LastName|FullName|HeadshotUrl|CountryCode|Position|ClassifiedPosition|GridPosition| Q1| Q2| Q3|Time|Status|Points|RoundNumber|RaceName|EventDate|NumPitStops|TireStrategy|FastestLap|\n",
            "+------------+-------------+------------+--------+--------+---------+------+---------+--------+--------+-----------+-----------+--------+------------------+------------+---+---+---+----+------+------+-----------+--------+---------+-----------+------------+----------+\n",
            "|           0|            0|           0|       8|       0|        0|     8|        0|       0|       0|         27|         80|       1|                 1|           0|124|124|124|  45|     8|     1|          0|       0|        0|          0|           0|         0|\n",
            "+------------+-------------+------------+--------+--------+---------+------+---------+--------+--------+-----------+-----------+--------+------------------+------------+---+---+---+----+------+------+-----------+--------+---------+-----------+------------+----------+\n",
            "\n"
          ]
        }
      ]
    },
    {
      "cell_type": "markdown",
      "source": [
        "As it can be seen most of the data types must be transformed first in order to continue with any exploratoy analysis. First we are going to eliminate all columns we are not going to use"
      ],
      "metadata": {
        "id": "2l9ZP0E_gy5a"
      }
    },
    {
      "cell_type": "code",
      "source": [
        "columns_to_drop = [\"DriverNumber\", \"BroadcastName\", \"Abbreviation\", \"DriverId\", \"TeamColor\", \"FirstName\", \"TeamId\"\n",
        "                   \"LastName\", \"FullName\", \"HeadshotUrl\", \"CountryCode\", \"Q1\", \"Q2\",\"Q3\",\n",
        "                   \"Time\", \"Status\", \"RoundNumber\"]\n",
        "\n",
        "df2_cl = df_cl.drop(*columns_to_drop)\n",
        "\n",
        "df2_cl.show()"
      ],
      "metadata": {
        "colab": {
          "base_uri": "https://localhost:8080/"
        },
        "id": "m2f26H8lfV_n",
        "outputId": "3d30ffc2-c3a4-478d-9911-2e8827624f9b"
      },
      "execution_count": null,
      "outputs": [
        {
          "output_type": "stream",
          "name": "stdout",
          "text": [
            "+--------+------+--------+--------+------------------+------------+------+--------------------+----------+-----------+--------------------+----------+\n",
            "|TeamName|TeamId|LastName|Position|ClassifiedPosition|GridPosition|Points|            RaceName| EventDate|NumPitStops|        TireStrategy|FastestLap|\n",
            "+--------+------+--------+--------+------------------+------------+------+--------------------+----------+-----------+--------------------+----------+\n",
            "|  Sauber|sauber| Leclerc|    13.0|                13|        18.0|   0.0|Australian Grand ...| 3/25/2018|          2|SUPERSOFT > SOFT ...|     false|\n",
            "|  Sauber|sauber| Leclerc|    12.0|                12|        19.0|   0.0|  Bahrain Grand Prix|  4/8/2018|          2|SOFT > MEDIUM > S...|     false|\n",
            "|  Sauber|sauber| Leclerc|    19.0|                19|        19.0|   0.0|  Chinese Grand Prix| 4/15/2018|          1|       SOFT > MEDIUM|     false|\n",
            "|  Sauber|sauber| Leclerc|     6.0|                 6|        13.0|   8.0|Azerbaijan Grand ...| 4/29/2018|          2|SUPERSOFT > SOFT ...|     false|\n",
            "|  Sauber|sauber| Leclerc|    10.0|                10|        14.0|   1.0|  Spanish Grand Prix| 5/13/2018|          1|       SOFT > MEDIUM|     false|\n",
            "|  Sauber|sauber| Leclerc|    18.0|                 R|        14.0|   0.0|   Monaco Grand Prix| 5/27/2018|          1|ULTRASOFT > SUPER...|     false|\n",
            "|  Sauber|sauber| Leclerc|    10.0|                10|        13.0|   1.0| Canadian Grand Prix| 6/10/2018|          1|ULTRASOFT > SUPER...|     false|\n",
            "|  Sauber|sauber| Leclerc|    10.0|                10|         8.0|   1.0|   French Grand Prix| 6/24/2018|          1|ULTRASOFT > SUPER...|     false|\n",
            "|  Sauber|sauber| Leclerc|     9.0|                 9|        18.0|   2.0| Austrian Grand Prix|  7/1/2018|          1|    SUPERSOFT > SOFT|     false|\n",
            "|  Sauber|  NULL| Leclerc|    NULL|              NULL|         9.0|  NULL|  British Grand Prix|  7/8/2018|          1|                SOFT|     false|\n",
            "|  Sauber|sauber| Leclerc|    15.0|                15|         9.0|   0.0|   German Grand Prix| 7/22/2018|          3|ULTRASOFT > SOFT ...|     false|\n",
            "|  Sauber|sauber| Leclerc|    20.0|                 R|        17.0|   0.0|Hungarian Grand Prix| 7/29/2018|          0|                SOFT|     false|\n",
            "|  Sauber|sauber| Leclerc|    18.0|                 R|        12.0|   0.0|  Belgian Grand Prix| 8/26/2018|          0|                SOFT|     false|\n",
            "|  Sauber|sauber| Leclerc|    11.0|                11|        15.0|   0.0|  Italian Grand Prix|  9/2/2018|          1|    SOFT > SUPERSOFT|     false|\n",
            "|  Sauber|sauber| Leclerc|     9.0|                 9|        13.0|   2.0|Singapore Grand Prix| 9/16/2018|          1|ULTRASOFT > HYPER...|     false|\n",
            "|  Sauber|sauber| Leclerc|     7.0|                 7|         7.0|   6.0|  Russian Grand Prix| 9/30/2018|          1|    HYPERSOFT > SOFT|     false|\n",
            "|  Sauber|sauber| Leclerc|    18.0|                 R|        10.0|   0.0| Japanese Grand Prix| 10/7/2018|          2|SOFT > MEDIUM > SOFT|     false|\n",
            "|  Sauber|sauber| Leclerc|    15.0|                 R|         9.0|   0.0|United States Gra...|10/21/2018|          2|ULTRASOFT > SOFT ...|     false|\n",
            "|  Sauber|sauber| Leclerc|     7.0|                 7|         9.0|   6.0|  Mexican Grand Prix|10/28/2018|          1|HYPERSOFT > SUPER...|     false|\n",
            "|  Sauber|sauber| Leclerc|     7.0|                 7|         7.0|   6.0|Brazilian Grand Prix|11/11/2018|          1|  SUPERSOFT > MEDIUM|     false|\n",
            "+--------+------+--------+--------+------------------+------------+------+--------------------+----------+-----------+--------------------+----------+\n",
            "only showing top 20 rows\n",
            "\n"
          ]
        }
      ]
    },
    {
      "cell_type": "markdown",
      "source": [
        "Now we have to cast the different data types to their correct form.\n",
        "\n",
        "Firts let's cast the \"EvenDate\" into date type"
      ],
      "metadata": {
        "id": "abzKktMSkXAq"
      }
    },
    {
      "cell_type": "code",
      "source": [
        "def parse_date(date_str):\n",
        "    if date_str is None:\n",
        "        return None\n",
        "    # Ensure the input is a string and remove leading/trailing spaces\n",
        "    date_str = str(date_str).strip()\n",
        "    formats = [\n",
        "        '%m/%d/%Y',              # Format for '11/3/2019'\n",
        "        '%Y-%m-%d'               # Format for '2019-11-03'\n",
        "    ]\n",
        "    for fmt in formats:\n",
        "        try:\n",
        "            return datetime.strptime(date_str, fmt).strftime('%Y-%m-%d')\n",
        "        except ValueError:\n",
        "            continue\n",
        "    return None  # Return None if no format matched"
      ],
      "metadata": {
        "id": "1XfUUfx2liDZ"
      },
      "execution_count": null,
      "outputs": []
    },
    {
      "cell_type": "code",
      "source": [
        "# Register the UDF\n",
        "parse_date_udf = udf(parse_date, StringType())\n",
        "\n",
        "# Apply the UDF to convert date formats\n",
        "df2_cl = df2_cl.withColumn('EventDate', parse_date_udf(col('EventDate')))"
      ],
      "metadata": {
        "id": "bL5SriNAmdzs"
      },
      "execution_count": null,
      "outputs": []
    },
    {
      "cell_type": "code",
      "source": [
        "df2_cl = df2_cl.withColumn(\"EventDate\", df2_cl[\"EventDate\"].cast(\"date\"))"
      ],
      "metadata": {
        "id": "MXk0Xl-1qtqs"
      },
      "execution_count": null,
      "outputs": []
    },
    {
      "cell_type": "markdown",
      "source": [
        "Now let's cast the integer columns. It{s important to understand that in the cases where Charles was forced to retire from the race then it is registered with a letter 'R'. When data was uploaded it turn into null so there are a few thing we have to do"
      ],
      "metadata": {
        "id": "EFAJHjKspowe"
      }
    },
    {
      "cell_type": "code",
      "source": [
        "df2_cl.printSchema()"
      ],
      "metadata": {
        "colab": {
          "base_uri": "https://localhost:8080/"
        },
        "id": "INbNVJwiqjI2",
        "outputId": "e09aceb8-9cb3-439b-eb9a-ec68e22ad65b"
      },
      "execution_count": null,
      "outputs": [
        {
          "output_type": "stream",
          "name": "stdout",
          "text": [
            "root\n",
            " |-- TeamName: string (nullable = true)\n",
            " |-- TeamId: string (nullable = true)\n",
            " |-- LastName: string (nullable = true)\n",
            " |-- Position: double (nullable = true)\n",
            " |-- ClassifiedPosition: string (nullable = true)\n",
            " |-- GridPosition: double (nullable = true)\n",
            " |-- Points: double (nullable = true)\n",
            " |-- RaceName: string (nullable = true)\n",
            " |-- EventDate: date (nullable = true)\n",
            " |-- NumPitStops: integer (nullable = true)\n",
            " |-- TireStrategy: string (nullable = true)\n",
            " |-- FastestLap: boolean (nullable = true)\n",
            "\n"
          ]
        }
      ]
    },
    {
      "cell_type": "markdown",
      "source": [
        "Now let's cast the last data type of \"ClassifiesPosition\" from string to double"
      ],
      "metadata": {
        "id": "6lHEGQkFuU62"
      }
    },
    {
      "cell_type": "code",
      "source": [
        "df2_cl = df2_cl.withColumn(\"ClassifiedPosition\", df2_cl[\"ClassifiedPosition\"].cast(\"double\"))\n",
        "\n",
        "print(df2_cl.printSchema())"
      ],
      "metadata": {
        "colab": {
          "base_uri": "https://localhost:8080/"
        },
        "id": "MfgHtxIxuUQm",
        "outputId": "c4dd093e-988e-440b-c540-01670fcd682f"
      },
      "execution_count": null,
      "outputs": [
        {
          "output_type": "stream",
          "name": "stdout",
          "text": [
            "root\n",
            " |-- TeamName: string (nullable = true)\n",
            " |-- TeamId: string (nullable = true)\n",
            " |-- LastName: string (nullable = true)\n",
            " |-- Position: double (nullable = true)\n",
            " |-- ClassifiedPosition: double (nullable = true)\n",
            " |-- GridPosition: double (nullable = true)\n",
            " |-- Points: double (nullable = true)\n",
            " |-- RaceName: string (nullable = true)\n",
            " |-- EventDate: date (nullable = true)\n",
            " |-- NumPitStops: integer (nullable = true)\n",
            " |-- TireStrategy: string (nullable = true)\n",
            " |-- FastestLap: boolean (nullable = true)\n",
            "\n",
            "None\n"
          ]
        }
      ]
    },
    {
      "cell_type": "markdown",
      "source": [
        "We also have one missing data in \"Points\". Analyzing the data it's possible to identify that the null value comes from a race were Charles had a DNF so we are going to replace it with a 0"
      ],
      "metadata": {
        "id": "cZOGMfJKr_Un"
      }
    },
    {
      "cell_type": "code",
      "source": [
        "df2_cl = df2_cl.withColumn(\"Points\", when(col(\"Points\").isNull(), 0.0).otherwise(col(\"Points\")))\n",
        "\n",
        "null_values = df2_cl.select(*(sum(col(c).isNull().cast(\"int\")).alias(c) for c in df2_cl.columns)).show()"
      ],
      "metadata": {
        "colab": {
          "base_uri": "https://localhost:8080/"
        },
        "id": "TQNXwvp9wPSF",
        "outputId": "de2c9229-cd3c-49c8-c4bc-6a387063e914"
      },
      "execution_count": null,
      "outputs": [
        {
          "output_type": "stream",
          "name": "stdout",
          "text": [
            "+--------+------+--------+--------+------------------+------------+------+--------+---------+-----------+------------+----------+\n",
            "|TeamName|TeamId|LastName|Position|ClassifiedPosition|GridPosition|Points|RaceName|EventDate|NumPitStops|TireStrategy|FastestLap|\n",
            "+--------+------+--------+--------+------------------+------------+------+--------+---------+-----------+------------+----------+\n",
            "|       0|     8|       0|       1|                23|           0|     0|       0|        0|          0|           0|         0|\n",
            "+--------+------+--------+--------+------------------+------------+------+--------+---------+-----------+------------+----------+\n",
            "\n"
          ]
        }
      ]
    },
    {
      "cell_type": "markdown",
      "source": [
        "## Create weather variable\n",
        "\n",
        "As in the FastF1 api there is no information about the type (dry, wet, mixed) we will create this data. For that we will use the tyre strategy to determine the type of data we need."
      ],
      "metadata": {
        "id": "GzPgptq58UOP"
      }
    },
    {
      "cell_type": "code",
      "source": [
        "df3_cl = df2_cl.withColumn(\n",
        "    \"weather\",\n",
        "    F.when(\n",
        "        F.col(\"TireStrategy\").rlike(\"WET|INTERMEDIATE\") &\n",
        "        ~F.col(\"TireStrategy\").rlike(\"SOFT|HARD|MEDIUM|SUPERSOFT|ULTRASOFT \"), \"wet\"  # Only wet o intermediate\n",
        "    ).when(\n",
        "        F.col(\"TireStrategy\").rlike(\"WET|INTERMEDIATE\") &\n",
        "        F.col(\"TireStrategy\").rlike(\"SOFT|HARD|MEDIUM|SUPERSOFT|ULTRASOFT \"), \"mixed\"  # Mixed\n",
        "    ).otherwise(\"dry\")  # None wet or intermediate\n",
        ")\n",
        "\n",
        "df3_cl.show()"
      ],
      "metadata": {
        "colab": {
          "base_uri": "https://localhost:8080/"
        },
        "id": "PrmBwcNgKJjI",
        "outputId": "7dc008e1-ee59-469e-fb98-aefdf484b334"
      },
      "execution_count": null,
      "outputs": [
        {
          "output_type": "stream",
          "name": "stdout",
          "text": [
            "+--------+------+--------+--------+------------------+------------+------+--------------------+----------+-----------+--------------------+----------+-------+\n",
            "|TeamName|TeamId|LastName|Position|ClassifiedPosition|GridPosition|Points|            RaceName| EventDate|NumPitStops|        TireStrategy|FastestLap|weather|\n",
            "+--------+------+--------+--------+------------------+------------+------+--------------------+----------+-----------+--------------------+----------+-------+\n",
            "|  Sauber|sauber| Leclerc|    13.0|              13.0|        18.0|   0.0|Australian Grand ...|2018-03-25|          2|SUPERSOFT > SOFT ...|     false|    dry|\n",
            "|  Sauber|sauber| Leclerc|    12.0|              12.0|        19.0|   0.0|  Bahrain Grand Prix|2018-04-08|          2|SOFT > MEDIUM > S...|     false|    dry|\n",
            "|  Sauber|sauber| Leclerc|    19.0|              19.0|        19.0|   0.0|  Chinese Grand Prix|2018-04-15|          1|       SOFT > MEDIUM|     false|    dry|\n",
            "|  Sauber|sauber| Leclerc|     6.0|               6.0|        13.0|   8.0|Azerbaijan Grand ...|2018-04-29|          2|SUPERSOFT > SOFT ...|     false|    dry|\n",
            "|  Sauber|sauber| Leclerc|    10.0|              10.0|        14.0|   1.0|  Spanish Grand Prix|2018-05-13|          1|       SOFT > MEDIUM|     false|    dry|\n",
            "|  Sauber|sauber| Leclerc|    18.0|              NULL|        14.0|   0.0|   Monaco Grand Prix|2018-05-27|          1|ULTRASOFT > SUPER...|     false|    dry|\n",
            "|  Sauber|sauber| Leclerc|    10.0|              10.0|        13.0|   1.0| Canadian Grand Prix|2018-06-10|          1|ULTRASOFT > SUPER...|     false|    dry|\n",
            "|  Sauber|sauber| Leclerc|    10.0|              10.0|         8.0|   1.0|   French Grand Prix|2018-06-24|          1|ULTRASOFT > SUPER...|     false|    dry|\n",
            "|  Sauber|sauber| Leclerc|     9.0|               9.0|        18.0|   2.0| Austrian Grand Prix|2018-07-01|          1|    SUPERSOFT > SOFT|     false|    dry|\n",
            "|  Sauber|  NULL| Leclerc|    NULL|              NULL|         9.0|   0.0|  British Grand Prix|2018-07-08|          1|                SOFT|     false|    dry|\n",
            "|  Sauber|sauber| Leclerc|    15.0|              15.0|         9.0|   0.0|   German Grand Prix|2018-07-22|          3|ULTRASOFT > SOFT ...|     false|  mixed|\n",
            "|  Sauber|sauber| Leclerc|    20.0|              NULL|        17.0|   0.0|Hungarian Grand Prix|2018-07-29|          0|                SOFT|     false|    dry|\n",
            "|  Sauber|sauber| Leclerc|    18.0|              NULL|        12.0|   0.0|  Belgian Grand Prix|2018-08-26|          0|                SOFT|     false|    dry|\n",
            "|  Sauber|sauber| Leclerc|    11.0|              11.0|        15.0|   0.0|  Italian Grand Prix|2018-09-02|          1|    SOFT > SUPERSOFT|     false|    dry|\n",
            "|  Sauber|sauber| Leclerc|     9.0|               9.0|        13.0|   2.0|Singapore Grand Prix|2018-09-16|          1|ULTRASOFT > HYPER...|     false|    dry|\n",
            "|  Sauber|sauber| Leclerc|     7.0|               7.0|         7.0|   6.0|  Russian Grand Prix|2018-09-30|          1|    HYPERSOFT > SOFT|     false|    dry|\n",
            "|  Sauber|sauber| Leclerc|    18.0|              NULL|        10.0|   0.0| Japanese Grand Prix|2018-10-07|          2|SOFT > MEDIUM > SOFT|     false|    dry|\n",
            "|  Sauber|sauber| Leclerc|    15.0|              NULL|         9.0|   0.0|United States Gra...|2018-10-21|          2|ULTRASOFT > SOFT ...|     false|    dry|\n",
            "|  Sauber|sauber| Leclerc|     7.0|               7.0|         9.0|   6.0|  Mexican Grand Prix|2018-10-28|          1|HYPERSOFT > SUPER...|     false|    dry|\n",
            "|  Sauber|sauber| Leclerc|     7.0|               7.0|         7.0|   6.0|Brazilian Grand Prix|2018-11-11|          1|  SUPERSOFT > MEDIUM|     false|    dry|\n",
            "+--------+------+--------+--------+------------------+------------+------+--------------------+----------+-----------+--------------------+----------+-------+\n",
            "only showing top 20 rows\n",
            "\n"
          ]
        }
      ]
    },
    {
      "cell_type": "markdown",
      "source": [
        "### Create type of circuit variable\n",
        "\n",
        "Also, for a better understanding of Charles' performance it's necesary to view his performance over the different type of circuits that F1 offers. For that we are going to create a new variable called \"typeCircuit\" that will have values of\n",
        "\n",
        "\n",
        "*   Permanent circuits: These are tracks built exclusively for motor racing\n",
        "*   Urban circuits: They are run on city streets and usually have closer barriers.\n",
        "* Hybrid circuits: These are a combination of street streets and tracks built for the race.\n",
        "\n",
        "For that let's see all te values that existe in te colunm RaceName\n",
        "\n"
      ],
      "metadata": {
        "id": "qyiDENaaup82"
      }
    },
    {
      "cell_type": "code",
      "source": [
        "df3_cl.select(\"RaceName\").distinct().show(truncate=False,n=50)"
      ],
      "metadata": {
        "colab": {
          "base_uri": "https://localhost:8080/"
        },
        "id": "yU_ydRWGeEvq",
        "outputId": "67279576-ea76-48de-8bb7-5bff84a0a6a2"
      },
      "execution_count": null,
      "outputs": [
        {
          "output_type": "stream",
          "name": "stdout",
          "text": [
            "+---------------------------+\n",
            "|RaceName                   |\n",
            "+---------------------------+\n",
            "|German Grand Prix          |\n",
            "|Spanish Grand Prix         |\n",
            "|Brazilian Grand Prix       |\n",
            "|Mexican Grand Prix         |\n",
            "|Singapore Grand Prix       |\n",
            "|Canadian Grand Prix        |\n",
            "|Italian Grand Prix         |\n",
            "|Chinese Grand Prix         |\n",
            "|Azerbaijan Grand Prix      |\n",
            "|British Grand Prix         |\n",
            "|Monaco Grand Prix          |\n",
            "|Russian Grand Prix         |\n",
            "|Austrian Grand Prix        |\n",
            "|Australian Grand Prix      |\n",
            "|Hungarian Grand Prix       |\n",
            "|Bahrain Grand Prix         |\n",
            "|French Grand Prix          |\n",
            "|Abu Dhabi Grand Prix       |\n",
            "|Belgian Grand Prix         |\n",
            "|United States Grand Prix   |\n",
            "|Japanese Grand Prix        |\n",
            "|Sakhir Grand Prix          |\n",
            "|Turkish Grand Prix         |\n",
            "|Portuguese Grand Prix      |\n",
            "|Emilia Romagna Grand Prix  |\n",
            "|Tuscan Grand Prix          |\n",
            "|Eifel Grand Prix           |\n",
            "|Styrian Grand Prix         |\n",
            "|70th Anniversary Grand Prix|\n",
            "|São Paulo Grand Prix       |\n",
            "|Dutch Grand Prix           |\n",
            "|Qatar Grand Prix           |\n",
            "|Saudi Arabian Grand Prix   |\n",
            "|Mexico City Grand Prix     |\n",
            "|Miami Grand Prix           |\n",
            "|Las Vegas Grand Prix       |\n",
            "+---------------------------+\n",
            "\n"
          ]
        }
      ]
    },
    {
      "cell_type": "code",
      "source": [
        "category_dict = {\n",
        "    \"permanent\": [\n",
        "        \"German Grand Prix\", \"Spanish Grand Prix\", \"Brazilian Grand Prix\",\n",
        "        \"Mexican Grand Prix\", \"Canadian Grand Prix\", \"Italian Grand Prix\",\n",
        "        \"Chinese Grand Prix\", \"Russian Grand Prix\", \"Austrian Grand Prix\",\n",
        "        \"Hungarian Grand Prix\", \"Bahrain Grand Prix\", \"French Grand Prix\",\n",
        "        \"Abu Dhabi Grand Prix\", \"Belgian Grand Prix\", \"United States Grand Prix\",\n",
        "        \"Japanese Grand Prix\", \"Sakhir Grand Prix\", \"Turkish Grand Prix\",\n",
        "        \"Portuguese Grand Prix\", \"Emilia Romagna Grand Prix\", \"Tuscan Grand Prix\",\n",
        "        \"Eifel Grand Prix\", \"Styrian Grand Prix\", \"70th Anniversary Grand Prix\",\n",
        "        \"São Paulo Grand Prix\", \"Dutch Grand Prix\", \"Qatar Grand Prix\",\n",
        "        \"Mexico City Grand Prix\",\"British Grand Prix\"\n",
        "    ],\n",
        "    \"urban\": [\n",
        "        \"Monaco Grand Prix\", \"Azerbaijan Grand Prix\", \"Singapore Grand Prix\",\n",
        "        \"Las Vegas Grand Prix\", \"Saudi Arabian Grand Prix\", \"Miami Grand Prix\"\n",
        "    ],\n",
        "    \"hybrid\": [\n",
        "        \"Australian Grand Prix\", \"Canadian Grand Prix\", \"Russian Grand Prix\",\n",
        "        \"Abu Dhabi Grand Prix\", \"70th Anniversary Grand Prix\"\n",
        "    ],\n",
        "}\n"
      ],
      "metadata": {
        "id": "g93LjiTTupQ0"
      },
      "execution_count": null,
      "outputs": []
    },
    {
      "cell_type": "code",
      "source": [
        "def categorize_circuits(df, column_name, category_dict):\n",
        "\n",
        "    df = df.withColumn(\"circuit_category\", F.lit(None))\n",
        "    for category, circuits in category_dict.items():\n",
        "        regex = \"|\".join(circuits)\n",
        "        df = df.withColumn(\n",
        "            \"circuit_category\",\n",
        "            F.when(F.col(column_name).rlike(regex), category).otherwise(F.col(\"circuit_category\"))\n",
        "        )\n",
        "\n",
        "    return df\n"
      ],
      "metadata": {
        "id": "OQQk7iveZkM4"
      },
      "execution_count": null,
      "outputs": []
    },
    {
      "cell_type": "code",
      "source": [
        "df3_cl = categorize_circuits(df3_cl, \"RaceName\", category_dict)\n",
        "df3_cl.show()"
      ],
      "metadata": {
        "colab": {
          "base_uri": "https://localhost:8080/"
        },
        "id": "qdHt9x99Zstk",
        "outputId": "dc68e0fe-ba6d-4771-cdd7-e3bd13a6cc38"
      },
      "execution_count": null,
      "outputs": [
        {
          "output_type": "stream",
          "name": "stdout",
          "text": [
            "+--------+------+--------+--------+------------------+------------+------+--------------------+----------+-----------+--------------------+----------+-------+----------------+\n",
            "|TeamName|TeamId|LastName|Position|ClassifiedPosition|GridPosition|Points|            RaceName| EventDate|NumPitStops|        TireStrategy|FastestLap|weather|circuit_category|\n",
            "+--------+------+--------+--------+------------------+------------+------+--------------------+----------+-----------+--------------------+----------+-------+----------------+\n",
            "|  Sauber|sauber| Leclerc|    13.0|              13.0|        18.0|   0.0|Australian Grand ...|2018-03-25|          2|SUPERSOFT > SOFT ...|     false|    dry|          hybrid|\n",
            "|  Sauber|sauber| Leclerc|    12.0|              12.0|        19.0|   0.0|  Bahrain Grand Prix|2018-04-08|          2|SOFT > MEDIUM > S...|     false|    dry|       permanent|\n",
            "|  Sauber|sauber| Leclerc|    19.0|              19.0|        19.0|   0.0|  Chinese Grand Prix|2018-04-15|          1|       SOFT > MEDIUM|     false|    dry|       permanent|\n",
            "|  Sauber|sauber| Leclerc|     6.0|               6.0|        13.0|   8.0|Azerbaijan Grand ...|2018-04-29|          2|SUPERSOFT > SOFT ...|     false|    dry|           urban|\n",
            "|  Sauber|sauber| Leclerc|    10.0|              10.0|        14.0|   1.0|  Spanish Grand Prix|2018-05-13|          1|       SOFT > MEDIUM|     false|    dry|       permanent|\n",
            "|  Sauber|sauber| Leclerc|    18.0|              NULL|        14.0|   0.0|   Monaco Grand Prix|2018-05-27|          1|ULTRASOFT > SUPER...|     false|    dry|           urban|\n",
            "|  Sauber|sauber| Leclerc|    10.0|              10.0|        13.0|   1.0| Canadian Grand Prix|2018-06-10|          1|ULTRASOFT > SUPER...|     false|    dry|          hybrid|\n",
            "|  Sauber|sauber| Leclerc|    10.0|              10.0|         8.0|   1.0|   French Grand Prix|2018-06-24|          1|ULTRASOFT > SUPER...|     false|    dry|       permanent|\n",
            "|  Sauber|sauber| Leclerc|     9.0|               9.0|        18.0|   2.0| Austrian Grand Prix|2018-07-01|          1|    SUPERSOFT > SOFT|     false|    dry|       permanent|\n",
            "|  Sauber|  NULL| Leclerc|    NULL|              NULL|         9.0|   0.0|  British Grand Prix|2018-07-08|          1|                SOFT|     false|    dry|       permanent|\n",
            "|  Sauber|sauber| Leclerc|    15.0|              15.0|         9.0|   0.0|   German Grand Prix|2018-07-22|          3|ULTRASOFT > SOFT ...|     false|  mixed|       permanent|\n",
            "|  Sauber|sauber| Leclerc|    20.0|              NULL|        17.0|   0.0|Hungarian Grand Prix|2018-07-29|          0|                SOFT|     false|    dry|       permanent|\n",
            "|  Sauber|sauber| Leclerc|    18.0|              NULL|        12.0|   0.0|  Belgian Grand Prix|2018-08-26|          0|                SOFT|     false|    dry|       permanent|\n",
            "|  Sauber|sauber| Leclerc|    11.0|              11.0|        15.0|   0.0|  Italian Grand Prix|2018-09-02|          1|    SOFT > SUPERSOFT|     false|    dry|       permanent|\n",
            "|  Sauber|sauber| Leclerc|     9.0|               9.0|        13.0|   2.0|Singapore Grand Prix|2018-09-16|          1|ULTRASOFT > HYPER...|     false|    dry|           urban|\n",
            "|  Sauber|sauber| Leclerc|     7.0|               7.0|         7.0|   6.0|  Russian Grand Prix|2018-09-30|          1|    HYPERSOFT > SOFT|     false|    dry|          hybrid|\n",
            "|  Sauber|sauber| Leclerc|    18.0|              NULL|        10.0|   0.0| Japanese Grand Prix|2018-10-07|          2|SOFT > MEDIUM > SOFT|     false|    dry|       permanent|\n",
            "|  Sauber|sauber| Leclerc|    15.0|              NULL|         9.0|   0.0|United States Gra...|2018-10-21|          2|ULTRASOFT > SOFT ...|     false|    dry|       permanent|\n",
            "|  Sauber|sauber| Leclerc|     7.0|               7.0|         9.0|   6.0|  Mexican Grand Prix|2018-10-28|          1|HYPERSOFT > SUPER...|     false|    dry|       permanent|\n",
            "|  Sauber|sauber| Leclerc|     7.0|               7.0|         7.0|   6.0|Brazilian Grand Prix|2018-11-11|          1|  SUPERSOFT > MEDIUM|     false|    dry|       permanent|\n",
            "+--------+------+--------+--------+------------------+------------+------+--------------------+----------+-----------+--------------------+----------+-------+----------------+\n",
            "only showing top 20 rows\n",
            "\n"
          ]
        }
      ]
    }
  ]
}